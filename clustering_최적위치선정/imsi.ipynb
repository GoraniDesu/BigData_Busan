{
 "cells": [
  {
   "cell_type": "markdown",
   "metadata": {},
   "source": [
    "# 라이브러리"
   ]
  },
  {
   "cell_type": "code",
   "execution_count": 1,
   "metadata": {},
   "outputs": [],
   "source": [
    "import pandas as pd\n",
    "import numpy as np\n",
    "import geopandas as gpd"
   ]
  },
  {
   "cell_type": "markdown",
   "metadata": {},
   "source": [
    "# 데이터 불러오기 및 처리\n",
    "- head로 dateframe 모양 확인\n",
    "- folium으로 시각화 할 예정이므로 epsg 확인 및 변환\n",
    "- 주택만 시각화할 것이므로 필터링\n",
    "- polygon 정보를 이용해 point(x,y) 추출"
   ]
  },
  {
   "cell_type": "code",
   "execution_count": 2,
   "metadata": {},
   "outputs": [],
   "source": [
    "gdf = gpd.read_file('../../Data_list/result/건물공간_데이터/용도별건물공간확보_부산_가공/수영구/수영구.shp')"
   ]
  },
  {
   "cell_type": "code",
   "execution_count": 3,
   "metadata": {},
   "outputs": [
    {
     "data": {
      "text/html": [
       "<div>\n",
       "<style scoped>\n",
       "    .dataframe tbody tr th:only-of-type {\n",
       "        vertical-align: middle;\n",
       "    }\n",
       "\n",
       "    .dataframe tbody tr th {\n",
       "        vertical-align: top;\n",
       "    }\n",
       "\n",
       "    .dataframe thead th {\n",
       "        text-align: right;\n",
       "    }\n",
       "</style>\n",
       "<table border=\"1\" class=\"dataframe\">\n",
       "  <thead>\n",
       "    <tr style=\"text-align: right;\">\n",
       "      <th></th>\n",
       "      <th>A0</th>\n",
       "      <th>A1</th>\n",
       "      <th>A2</th>\n",
       "      <th>A3</th>\n",
       "      <th>A4</th>\n",
       "      <th>A5</th>\n",
       "      <th>A6</th>\n",
       "      <th>A7</th>\n",
       "      <th>A8</th>\n",
       "      <th>A9</th>\n",
       "      <th>...</th>\n",
       "      <th>A27</th>\n",
       "      <th>A28</th>\n",
       "      <th>A29</th>\n",
       "      <th>A30</th>\n",
       "      <th>A31</th>\n",
       "      <th>A32</th>\n",
       "      <th>A33</th>\n",
       "      <th>A34</th>\n",
       "      <th>A35</th>\n",
       "      <th>geometry</th>\n",
       "    </tr>\n",
       "  </thead>\n",
       "  <tbody>\n",
       "    <tr>\n",
       "      <th>0</th>\n",
       "      <td>34041161</td>\n",
       "      <td>1991210573681863652700000000</td>\n",
       "      <td>2650010100101090004</td>\n",
       "      <td>2650010100</td>\n",
       "      <td>부산광역시 수영구 망미동</td>\n",
       "      <td>1</td>\n",
       "      <td>일반</td>\n",
       "      <td>109-4</td>\n",
       "      <td>104111143</td>\n",
       "      <td>1</td>\n",
       "      <td>...</td>\n",
       "      <td>단독주택</td>\n",
       "      <td>1</td>\n",
       "      <td>주거용</td>\n",
       "      <td>7.8</td>\n",
       "      <td>2.0</td>\n",
       "      <td>0.0</td>\n",
       "      <td>1990-08-21</td>\n",
       "      <td>1991-03-13</td>\n",
       "      <td>2025-01-10 02:26:32.096283</td>\n",
       "      <td>POLYGON ((392824.671 288723.284, 392834.636 28...</td>\n",
       "    </tr>\n",
       "    <tr>\n",
       "      <th>1</th>\n",
       "      <td>31847756</td>\n",
       "      <td>1989210573601863758400000000</td>\n",
       "      <td>2650010100101090005</td>\n",
       "      <td>2650010100</td>\n",
       "      <td>부산광역시 수영구 망미동</td>\n",
       "      <td>1</td>\n",
       "      <td>일반</td>\n",
       "      <td>109-5</td>\n",
       "      <td>104111144</td>\n",
       "      <td>1</td>\n",
       "      <td>...</td>\n",
       "      <td>다가구주택</td>\n",
       "      <td>1</td>\n",
       "      <td>주거용</td>\n",
       "      <td>0.0</td>\n",
       "      <td>2.0</td>\n",
       "      <td>0.0</td>\n",
       "      <td>1989-01-24</td>\n",
       "      <td>1989-04-07</td>\n",
       "      <td>2025-01-10 02:26:32.096283</td>\n",
       "      <td>POLYGON ((392833.685 288735.303, 392834.64 288...</td>\n",
       "    </tr>\n",
       "  </tbody>\n",
       "</table>\n",
       "<p>2 rows × 37 columns</p>\n",
       "</div>"
      ],
      "text/plain": [
       "         A0                            A1                   A2          A3  \\\n",
       "0  34041161  1991210573681863652700000000  2650010100101090004  2650010100   \n",
       "1  31847756  1989210573601863758400000000  2650010100101090005  2650010100   \n",
       "\n",
       "              A4 A5  A6     A7         A8 A9  ...    A27 A28  A29  A30  A31  \\\n",
       "0  부산광역시 수영구 망미동  1  일반  109-4  104111143  1  ...   단독주택   1  주거용  7.8  2.0   \n",
       "1  부산광역시 수영구 망미동  1  일반  109-5  104111144  1  ...  다가구주택   1  주거용  0.0  2.0   \n",
       "\n",
       "   A32         A33         A34                         A35  \\\n",
       "0  0.0  1990-08-21  1991-03-13  2025-01-10 02:26:32.096283   \n",
       "1  0.0  1989-01-24  1989-04-07  2025-01-10 02:26:32.096283   \n",
       "\n",
       "                                            geometry  \n",
       "0  POLYGON ((392824.671 288723.284, 392834.636 28...  \n",
       "1  POLYGON ((392833.685 288735.303, 392834.64 288...  \n",
       "\n",
       "[2 rows x 37 columns]"
      ]
     },
     "execution_count": 3,
     "metadata": {},
     "output_type": "execute_result"
    }
   ],
   "source": [
    "gdf.head(2)"
   ]
  },
  {
   "cell_type": "code",
   "execution_count": 4,
   "metadata": {},
   "outputs": [
    {
     "name": "stdout",
     "output_type": "stream",
     "text": [
      "4326\n"
     ]
    }
   ],
   "source": [
    "gdf = gdf.to_crs(epsg=4326)\n",
    "print(gdf.crs.to_epsg())\n"
   ]
  },
  {
   "cell_type": "code",
   "execution_count": 5,
   "metadata": {},
   "outputs": [
    {
     "data": {
      "text/plain": [
       "A25\n",
       "단독주택         8100\n",
       "공동주택         2076\n",
       "제2종근린생활시설     145\n",
       "교육연구시설         44\n",
       "노유자시설          43\n",
       "제1종근린생활시설       4\n",
       "업무시설            2\n",
       "숙박시설            1\n",
       "판매시설            1\n",
       "Name: count, dtype: int64"
      ]
     },
     "metadata": {},
     "output_type": "display_data"
    },
    {
     "data": {
      "text/plain": [
       "A27\n",
       "단독주택        6396\n",
       "다가구주택       1695\n",
       "다세대주택       1559\n",
       "아파트          514\n",
       "학원           175\n",
       "영유아보육시설       17\n",
       "유치원           12\n",
       "어린이집          11\n",
       "다중주택          11\n",
       "중학교            8\n",
       "초등학교           7\n",
       "공동주택           5\n",
       "기타아동관련시설       4\n",
       "노유자시설          1\n",
       "아동복지시설         1\n",
       "주거용            1\n",
       "Name: count, dtype: int64"
      ]
     },
     "metadata": {},
     "output_type": "display_data"
    },
    {
     "data": {
      "text/plain": [
       "A29\n",
       "주거용      10125\n",
       "상업용        201\n",
       "문교사회용       90\n",
       "Name: count, dtype: int64"
      ]
     },
     "metadata": {},
     "output_type": "display_data"
    }
   ],
   "source": [
    "display(gdf['A25'].value_counts())\n",
    "display(gdf['A27'].value_counts())\n",
    "display(gdf['A29'].value_counts())"
   ]
  },
  {
   "cell_type": "code",
   "execution_count": 6,
   "metadata": {},
   "outputs": [
    {
     "data": {
      "text/plain": [
       "A25\n",
       "단독주택    8100\n",
       "공동주택    2076\n",
       "Name: count, dtype: int64"
      ]
     },
     "execution_count": 6,
     "metadata": {},
     "output_type": "execute_result"
    }
   ],
   "source": [
    "gdf = gdf[gdf['A25'].str.contains('주택', na=False)]\n",
    "gdf['A25'].value_counts()"
   ]
  },
  {
   "cell_type": "code",
   "execution_count": 7,
   "metadata": {},
   "outputs": [
    {
     "data": {
      "text/html": [
       "<div>\n",
       "<style scoped>\n",
       "    .dataframe tbody tr th:only-of-type {\n",
       "        vertical-align: middle;\n",
       "    }\n",
       "\n",
       "    .dataframe tbody tr th {\n",
       "        vertical-align: top;\n",
       "    }\n",
       "\n",
       "    .dataframe thead th {\n",
       "        text-align: right;\n",
       "    }\n",
       "</style>\n",
       "<table border=\"1\" class=\"dataframe\">\n",
       "  <thead>\n",
       "    <tr style=\"text-align: right;\">\n",
       "      <th></th>\n",
       "      <th>geometry</th>\n",
       "      <th>dot</th>\n",
       "    </tr>\n",
       "  </thead>\n",
       "  <tbody>\n",
       "    <tr>\n",
       "      <th>0</th>\n",
       "      <td>POLYGON ((129.11665 35.17645, 129.11676 35.176...</td>\n",
       "      <td>POINT (129.11671 35.17642)</td>\n",
       "    </tr>\n",
       "    <tr>\n",
       "      <th>1</th>\n",
       "      <td>POLYGON ((129.11676 35.17656, 129.11676 35.176...</td>\n",
       "      <td>POINT (129.11671 35.17652)</td>\n",
       "    </tr>\n",
       "  </tbody>\n",
       "</table>\n",
       "</div>"
      ],
      "text/plain": [
       "                                            geometry  \\\n",
       "0  POLYGON ((129.11665 35.17645, 129.11676 35.176...   \n",
       "1  POLYGON ((129.11676 35.17656, 129.11676 35.176...   \n",
       "\n",
       "                          dot  \n",
       "0  POINT (129.11671 35.17642)  \n",
       "1  POINT (129.11671 35.17652)  "
      ]
     },
     "execution_count": 7,
     "metadata": {},
     "output_type": "execute_result"
    }
   ],
   "source": [
    "gdf['dot'] = gdf['geometry'].apply(lambda x: x.centroid)\n",
    "gdf.iloc[:, -2:].head(2)"
   ]
  },
  {
   "cell_type": "code",
   "execution_count": 8,
   "metadata": {},
   "outputs": [
    {
     "name": "stdout",
     "output_type": "stream",
     "text": [
      "0\n"
     ]
    }
   ],
   "source": [
    "print(gdf['dot'].isna().sum())"
   ]
  },
  {
   "cell_type": "markdown",
   "metadata": {},
   "source": [
    "# 시각화 - polygon과 point\n",
    "- 초기: 10개만 시각화하여 제대로 생성되는지 확인\n"
   ]
  },
  {
   "cell_type": "code",
   "execution_count": 9,
   "metadata": {},
   "outputs": [],
   "source": [
    "# 시각화 라이브러리\n",
    "import folium"
   ]
  },
  {
   "cell_type": "code",
   "execution_count": 10,
   "metadata": {},
   "outputs": [
    {
     "data": {
      "text/html": [
       "<div style=\"width:100%;\"><div style=\"position:relative;width:100%;height:0;padding-bottom:60%;\"><span style=\"color:#565656\">Make this Notebook Trusted to load map: File -> Trust Notebook</span><iframe srcdoc=\"&lt;!DOCTYPE html&gt;\n",
       "&lt;html&gt;\n",
       "&lt;head&gt;\n",
       "    \n",
       "    &lt;meta http-equiv=&quot;content-type&quot; content=&quot;text/html; charset=UTF-8&quot; /&gt;\n",
       "    \n",
       "        &lt;script&gt;\n",
       "            L_NO_TOUCH = false;\n",
       "            L_DISABLE_3D = false;\n",
       "        &lt;/script&gt;\n",
       "    \n",
       "    &lt;style&gt;html, body {width: 100%;height: 100%;margin: 0;padding: 0;}&lt;/style&gt;\n",
       "    &lt;style&gt;#map {position:absolute;top:0;bottom:0;right:0;left:0;}&lt;/style&gt;\n",
       "    &lt;script src=&quot;https://cdn.jsdelivr.net/npm/leaflet@1.9.3/dist/leaflet.js&quot;&gt;&lt;/script&gt;\n",
       "    &lt;script src=&quot;https://code.jquery.com/jquery-1.12.4.min.js&quot;&gt;&lt;/script&gt;\n",
       "    &lt;script src=&quot;https://cdn.jsdelivr.net/npm/bootstrap@5.2.2/dist/js/bootstrap.bundle.min.js&quot;&gt;&lt;/script&gt;\n",
       "    &lt;script src=&quot;https://cdnjs.cloudflare.com/ajax/libs/Leaflet.awesome-markers/2.0.2/leaflet.awesome-markers.js&quot;&gt;&lt;/script&gt;\n",
       "    &lt;link rel=&quot;stylesheet&quot; href=&quot;https://cdn.jsdelivr.net/npm/leaflet@1.9.3/dist/leaflet.css&quot;/&gt;\n",
       "    &lt;link rel=&quot;stylesheet&quot; href=&quot;https://cdn.jsdelivr.net/npm/bootstrap@5.2.2/dist/css/bootstrap.min.css&quot;/&gt;\n",
       "    &lt;link rel=&quot;stylesheet&quot; href=&quot;https://netdna.bootstrapcdn.com/bootstrap/3.0.0/css/bootstrap.min.css&quot;/&gt;\n",
       "    &lt;link rel=&quot;stylesheet&quot; href=&quot;https://cdn.jsdelivr.net/npm/@fortawesome/fontawesome-free@6.2.0/css/all.min.css&quot;/&gt;\n",
       "    &lt;link rel=&quot;stylesheet&quot; href=&quot;https://cdnjs.cloudflare.com/ajax/libs/Leaflet.awesome-markers/2.0.2/leaflet.awesome-markers.css&quot;/&gt;\n",
       "    &lt;link rel=&quot;stylesheet&quot; href=&quot;https://cdn.jsdelivr.net/gh/python-visualization/folium/folium/templates/leaflet.awesome.rotate.min.css&quot;/&gt;\n",
       "    \n",
       "            &lt;meta name=&quot;viewport&quot; content=&quot;width=device-width,\n",
       "                initial-scale=1.0, maximum-scale=1.0, user-scalable=no&quot; /&gt;\n",
       "            &lt;style&gt;\n",
       "                #map_b6d124e6d6d42d49efbe3a9d1338f60d {\n",
       "                    position: relative;\n",
       "                    width: 100.0%;\n",
       "                    height: 100.0%;\n",
       "                    left: 0.0%;\n",
       "                    top: 0.0%;\n",
       "                }\n",
       "                .leaflet-container { font-size: 1rem; }\n",
       "            &lt;/style&gt;\n",
       "        \n",
       "&lt;/head&gt;\n",
       "&lt;body&gt;\n",
       "    \n",
       "    \n",
       "            &lt;div class=&quot;folium-map&quot; id=&quot;map_b6d124e6d6d42d49efbe3a9d1338f60d&quot; &gt;&lt;/div&gt;\n",
       "        \n",
       "&lt;/body&gt;\n",
       "&lt;script&gt;\n",
       "    \n",
       "    \n",
       "            var map_b6d124e6d6d42d49efbe3a9d1338f60d = L.map(\n",
       "                &quot;map_b6d124e6d6d42d49efbe3a9d1338f60d&quot;,\n",
       "                {\n",
       "                    center: [35.17644188023762, 129.1167305372453],\n",
       "                    crs: L.CRS.EPSG3857,\n",
       "                    zoom: 36,\n",
       "                    zoomControl: true,\n",
       "                    preferCanvas: false,\n",
       "                }\n",
       "            );\n",
       "\n",
       "            \n",
       "\n",
       "        \n",
       "    \n",
       "            var tile_layer_f2c09573aed53ea40f68234b322d9817 = L.tileLayer(\n",
       "                &quot;https://{s}.tile.openstreetmap.org/{z}/{x}/{y}.png&quot;,\n",
       "                {&quot;attribution&quot;: &quot;Data by \\u0026copy; \\u003ca target=\\&quot;_blank\\&quot; href=\\&quot;http://openstreetmap.org\\&quot;\\u003eOpenStreetMap\\u003c/a\\u003e, under \\u003ca target=\\&quot;_blank\\&quot; href=\\&quot;http://www.openstreetmap.org/copyright\\&quot;\\u003eODbL\\u003c/a\\u003e.&quot;, &quot;detectRetina&quot;: false, &quot;maxNativeZoom&quot;: 18, &quot;maxZoom&quot;: 18, &quot;minZoom&quot;: 0, &quot;noWrap&quot;: false, &quot;opacity&quot;: 1, &quot;subdomains&quot;: &quot;abc&quot;, &quot;tms&quot;: false}\n",
       "            ).addTo(map_b6d124e6d6d42d49efbe3a9d1338f60d);\n",
       "        \n",
       "    \n",
       "\n",
       "        function geo_json_7e1f495e9916dec529d3c3d994d09049_onEachFeature(feature, layer) {\n",
       "            layer.on({\n",
       "            });\n",
       "        };\n",
       "        var geo_json_7e1f495e9916dec529d3c3d994d09049 = L.geoJson(null, {\n",
       "                onEachFeature: geo_json_7e1f495e9916dec529d3c3d994d09049_onEachFeature,\n",
       "            \n",
       "        });\n",
       "\n",
       "        function geo_json_7e1f495e9916dec529d3c3d994d09049_add (data) {\n",
       "            geo_json_7e1f495e9916dec529d3c3d994d09049\n",
       "                .addData(data)\n",
       "                .addTo(map_b6d124e6d6d42d49efbe3a9d1338f60d);\n",
       "        }\n",
       "            geo_json_7e1f495e9916dec529d3c3d994d09049_add({&quot;features&quot;: [{&quot;geometry&quot;: {&quot;coordinates&quot;: [[[129.11665447129343, 35.176451861735416], [129.1167641570839, 35.176463745349345], [129.1167636130889, 35.1763894744551], [129.11666041018185, 35.17638173089429], [129.11665447129343, 35.176451861735416]]], &quot;type&quot;: &quot;Polygon&quot;}, &quot;id&quot;: &quot;0&quot;, &quot;properties&quot;: {}, &quot;type&quot;: &quot;Feature&quot;}, {&quot;geometry&quot;: {&quot;coordinates&quot;: [[[129.11675616710113, 35.17655839492344], [129.1167649676655, 35.17649357933162], [129.11666339846272, 35.17647673056234], [129.11665635338957, 35.17654091353101], [129.11675616710113, 35.17655839492344]]], &quot;type&quot;: &quot;Polygon&quot;}, &quot;id&quot;: &quot;1&quot;, &quot;properties&quot;: {}, &quot;type&quot;: &quot;Feature&quot;}, {&quot;geometry&quot;: {&quot;coordinates&quot;: [[[129.11679171673157, 35.176503954599184], [129.11679343992856, 35.17655812421802], [129.1168049664462, 35.17655793297125], [129.1168073089811, 35.17658425022081], [129.11689062486022, 35.17657975422254], [129.11688798042806, 35.17649520991833], [129.11684681405305, 35.17649569981891], [129.1168466015013, 35.17650065745775], [129.11679171673157, 35.176503954599184]]], &quot;type&quot;: &quot;Polygon&quot;}, &quot;id&quot;: &quot;2&quot;, &quot;properties&quot;: {}, &quot;type&quot;: &quot;Feature&quot;}, {&quot;geometry&quot;: {&quot;coordinates&quot;: [[[129.11695732492578, 35.17658866897144], [129.11703294913923, 35.17657913263788], [129.11703049471163, 35.176551373336316], [129.11704651756395, 35.1765479329087], [129.11704004716424, 35.176475010687035], [129.11694410865013, 35.17648078973055], [129.11695732492578, 35.17658866897144]]], &quot;type&quot;: &quot;Polygon&quot;}, &quot;id&quot;: &quot;3&quot;, &quot;properties&quot;: {}, &quot;type&quot;: &quot;Feature&quot;}, {&quot;geometry&quot;: {&quot;coordinates&quot;: [[[129.11678964482886, 35.17647724136413], [129.11692257686158, 35.17647008416868], [129.11691908450538, 35.17640699285183], [129.1167864847115, 35.17641613270173], [129.11678964482886, 35.17647724136413]]], &quot;type&quot;: &quot;Polygon&quot;}, &quot;id&quot;: &quot;4&quot;, &quot;properties&quot;: {}, &quot;type&quot;: &quot;Feature&quot;}, {&quot;geometry&quot;: {&quot;coordinates&quot;: [[[129.11685847439267, 35.17617305960625], [129.1167878935878, 35.176177813862864], [129.11680124220442, 35.176294075574994], [129.11687807436329, 35.17628498886369], [129.11685847439267, 35.17617305960625]]], &quot;type&quot;: &quot;Polygon&quot;}, &quot;id&quot;: &quot;5&quot;, &quot;properties&quot;: {}, &quot;type&quot;: &quot;Feature&quot;}, {&quot;geometry&quot;: {&quot;coordinates&quot;: [[[129.11687510227554, 35.17620161662511], [129.11688577732772, 35.176298051128796], [129.11696162923968, 35.17629445453288], [129.11695514964228, 35.176214961455344], [129.11694054950806, 35.17621524578208], [129.1169402062783, 35.17620542137128], [129.11692472791904, 35.17620570653336], [129.11692449778334, 35.17619822553015], [129.11687510227554, 35.17620161662511]]], &quot;type&quot;: &quot;Polygon&quot;}, &quot;id&quot;: &quot;6&quot;, &quot;properties&quot;: {}, &quot;type&quot;: &quot;Feature&quot;}, {&quot;geometry&quot;: {&quot;coordinates&quot;: [[[129.1169149928748, 35.17638590511314], [129.11690514306258, 35.176329670130855], [129.11679581146694, 35.17633527253778], [129.11680501170082, 35.17639799788266], [129.1169149928748, 35.17638590511314]]], &quot;type&quot;: &quot;Polygon&quot;}, &quot;id&quot;: &quot;7&quot;, &quot;properties&quot;: {}, &quot;type&quot;: &quot;Feature&quot;}, {&quot;geometry&quot;: {&quot;coordinates&quot;: [[[129.11665862424744, 35.176594271413585], [129.11665727511016, 35.176571738895085], [129.11656007004697, 35.17653577722472], [129.116533802793, 35.17659231695825], [129.11665862424744, 35.176594271413585]]], &quot;type&quot;: &quot;Polygon&quot;}, &quot;id&quot;: &quot;8&quot;, &quot;properties&quot;: {}, &quot;type&quot;: &quot;Feature&quot;}, {&quot;geometry&quot;: {&quot;coordinates&quot;: [[[129.11593943982572, 35.17650004994076], [129.11593886569642, 35.176560350937685], [129.11594237912323, 35.17656070815769], [129.11594320722477, 35.17660325119287], [129.11604782482144, 35.17660198050513], [129.11604460681627, 35.17649922941268], [129.11593943982572, 35.17650004994076]]], &quot;type&quot;: &quot;Polygon&quot;}, &quot;id&quot;: &quot;9&quot;, &quot;properties&quot;: {}, &quot;type&quot;: &quot;Feature&quot;}], &quot;type&quot;: &quot;FeatureCollection&quot;});\n",
       "\n",
       "        \n",
       "    \n",
       "            var circle_3925401b66497a9e3d01270c61caca46 = L.circle(\n",
       "                [35.176422116992526, 129.11671108265276],\n",
       "                {&quot;bubblingMouseEvents&quot;: true, &quot;color&quot;: &quot;red&quot;, &quot;dashArray&quot;: null, &quot;dashOffset&quot;: null, &quot;fill&quot;: true, &quot;fillColor&quot;: &quot;red&quot;, &quot;fillOpacity&quot;: 0.2, &quot;fillRule&quot;: &quot;evenodd&quot;, &quot;lineCap&quot;: &quot;round&quot;, &quot;lineJoin&quot;: &quot;round&quot;, &quot;opacity&quot;: 1.0, &quot;radius&quot;: 1, &quot;stroke&quot;: true, &quot;weight&quot;: 3}\n",
       "            ).addTo(map_b6d124e6d6d42d49efbe3a9d1338f60d);\n",
       "        \n",
       "    \n",
       "            var circle_793c48405385fda44fcf5b20efb6e204 = L.circle(\n",
       "                [35.17651733710637, 129.11671035117624],\n",
       "                {&quot;bubblingMouseEvents&quot;: true, &quot;color&quot;: &quot;red&quot;, &quot;dashArray&quot;: null, &quot;dashOffset&quot;: null, &quot;fill&quot;: true, &quot;fillColor&quot;: &quot;red&quot;, &quot;fillOpacity&quot;: 0.2, &quot;fillRule&quot;: &quot;evenodd&quot;, &quot;lineCap&quot;: &quot;round&quot;, &quot;lineJoin&quot;: &quot;round&quot;, &quot;opacity&quot;: 1.0, &quot;radius&quot;: 1, &quot;stroke&quot;: true, &quot;weight&quot;: 3}\n",
       "            ).addTo(map_b6d124e6d6d42d49efbe3a9d1338f60d);\n",
       "        \n",
       "    \n",
       "            var circle_e0a01961fb4577d83545762eb83615d9 = L.circle(\n",
       "                [35.17653948905335, 129.11684350775516],\n",
       "                {&quot;bubblingMouseEvents&quot;: true, &quot;color&quot;: &quot;red&quot;, &quot;dashArray&quot;: null, &quot;dashOffset&quot;: null, &quot;fill&quot;: true, &quot;fillColor&quot;: &quot;red&quot;, &quot;fillOpacity&quot;: 0.2, &quot;fillRule&quot;: &quot;evenodd&quot;, &quot;lineCap&quot;: &quot;round&quot;, &quot;lineJoin&quot;: &quot;round&quot;, &quot;opacity&quot;: 1.0, &quot;radius&quot;: 1, &quot;stroke&quot;: true, &quot;weight&quot;: 3}\n",
       "            ).addTo(map_b6d124e6d6d42d49efbe3a9d1338f60d);\n",
       "        \n",
       "    \n",
       "            var circle_8b33e125ce1ec12907d1f206d829ed64 = L.circle(\n",
       "                [35.17652845149264, 129.11699506451956],\n",
       "                {&quot;bubblingMouseEvents&quot;: true, &quot;color&quot;: &quot;red&quot;, &quot;dashArray&quot;: null, &quot;dashOffset&quot;: null, &quot;fill&quot;: true, &quot;fillColor&quot;: &quot;red&quot;, &quot;fillOpacity&quot;: 0.2, &quot;fillRule&quot;: &quot;evenodd&quot;, &quot;lineCap&quot;: &quot;round&quot;, &quot;lineJoin&quot;: &quot;round&quot;, &quot;opacity&quot;: 1.0, &quot;radius&quot;: 1, &quot;stroke&quot;: true, &quot;weight&quot;: 3}\n",
       "            ).addTo(map_b6d124e6d6d42d49efbe3a9d1338f60d);\n",
       "        \n",
       "    \n",
       "            var circle_bce45fb8c7334f7eb0acc5aba4534f06 = L.circle(\n",
       "                [35.176442599722606, 129.11685480389346],\n",
       "                {&quot;bubblingMouseEvents&quot;: true, &quot;color&quot;: &quot;red&quot;, &quot;dashArray&quot;: null, &quot;dashOffset&quot;: null, &quot;fill&quot;: true, &quot;fillColor&quot;: &quot;red&quot;, &quot;fillOpacity&quot;: 0.2, &quot;fillRule&quot;: &quot;evenodd&quot;, &quot;lineCap&quot;: &quot;round&quot;, &quot;lineJoin&quot;: &quot;round&quot;, &quot;opacity&quot;: 1.0, &quot;radius&quot;: 1, &quot;stroke&quot;: true, &quot;weight&quot;: 3}\n",
       "            ).addTo(map_b6d124e6d6d42d49efbe3a9d1338f60d);\n",
       "        \n",
       "    \n",
       "            var circle_542e9b01bdfa50bfe527872baa44e9cf = L.circle(\n",
       "                [35.17623337839576, 129.11683134857543],\n",
       "                {&quot;bubblingMouseEvents&quot;: true, &quot;color&quot;: &quot;red&quot;, &quot;dashArray&quot;: null, &quot;dashOffset&quot;: null, &quot;fill&quot;: true, &quot;fillColor&quot;: &quot;red&quot;, &quot;fillOpacity&quot;: 0.2, &quot;fillRule&quot;: &quot;evenodd&quot;, &quot;lineCap&quot;: &quot;round&quot;, &quot;lineJoin&quot;: &quot;round&quot;, &quot;opacity&quot;: 1.0, &quot;radius&quot;: 1, &quot;stroke&quot;: true, &quot;weight&quot;: 3}\n",
       "            ).addTo(map_b6d124e6d6d42d49efbe3a9d1338f60d);\n",
       "        \n",
       "    \n",
       "            var circle_926fa06f77640737fd633cb0811fcfc2 = L.circle(\n",
       "                [35.1762495626743, 129.1169178567377],\n",
       "                {&quot;bubblingMouseEvents&quot;: true, &quot;color&quot;: &quot;red&quot;, &quot;dashArray&quot;: null, &quot;dashOffset&quot;: null, &quot;fill&quot;: true, &quot;fillColor&quot;: &quot;red&quot;, &quot;fillOpacity&quot;: 0.2, &quot;fillRule&quot;: &quot;evenodd&quot;, &quot;lineCap&quot;: &quot;round&quot;, &quot;lineJoin&quot;: &quot;round&quot;, &quot;opacity&quot;: 1.0, &quot;radius&quot;: 1, &quot;stroke&quot;: true, &quot;weight&quot;: 3}\n",
       "            ).addTo(map_b6d124e6d6d42d49efbe3a9d1338f60d);\n",
       "        \n",
       "    \n",
       "            var circle_04b075ca7856ef0b837b84d61d1e961e = L.circle(\n",
       "                [35.17636236557026, 129.11685427538947],\n",
       "                {&quot;bubblingMouseEvents&quot;: true, &quot;color&quot;: &quot;red&quot;, &quot;dashArray&quot;: null, &quot;dashOffset&quot;: null, &quot;fill&quot;: true, &quot;fillColor&quot;: &quot;red&quot;, &quot;fillOpacity&quot;: 0.2, &quot;fillRule&quot;: &quot;evenodd&quot;, &quot;lineCap&quot;: &quot;round&quot;, &quot;lineJoin&quot;: &quot;round&quot;, &quot;opacity&quot;: 1.0, &quot;radius&quot;: 1, &quot;stroke&quot;: true, &quot;weight&quot;: 3}\n",
       "            ).addTo(map_b6d124e6d6d42d49efbe3a9d1338f60d);\n",
       "        \n",
       "    \n",
       "            var circle_cc7bdf091f7ed51a0faf6ad941f2fbca = L.circle(\n",
       "                [35.1765725337215, 129.1165936948638],\n",
       "                {&quot;bubblingMouseEvents&quot;: true, &quot;color&quot;: &quot;red&quot;, &quot;dashArray&quot;: null, &quot;dashOffset&quot;: null, &quot;fill&quot;: true, &quot;fillColor&quot;: &quot;red&quot;, &quot;fillOpacity&quot;: 0.2, &quot;fillRule&quot;: &quot;evenodd&quot;, &quot;lineCap&quot;: &quot;round&quot;, &quot;lineJoin&quot;: &quot;round&quot;, &quot;opacity&quot;: 1.0, &quot;radius&quot;: 1, &quot;stroke&quot;: true, &quot;weight&quot;: 3}\n",
       "            ).addTo(map_b6d124e6d6d42d49efbe3a9d1338f60d);\n",
       "        \n",
       "    \n",
       "            var circle_d4b36c8ace5d53b145500c7b73bf0b23 = L.circle(\n",
       "                [35.17655096764687, 129.11599338688941],\n",
       "                {&quot;bubblingMouseEvents&quot;: true, &quot;color&quot;: &quot;red&quot;, &quot;dashArray&quot;: null, &quot;dashOffset&quot;: null, &quot;fill&quot;: true, &quot;fillColor&quot;: &quot;red&quot;, &quot;fillOpacity&quot;: 0.2, &quot;fillRule&quot;: &quot;evenodd&quot;, &quot;lineCap&quot;: &quot;round&quot;, &quot;lineJoin&quot;: &quot;round&quot;, &quot;opacity&quot;: 1.0, &quot;radius&quot;: 1, &quot;stroke&quot;: true, &quot;weight&quot;: 3}\n",
       "            ).addTo(map_b6d124e6d6d42d49efbe3a9d1338f60d);\n",
       "        \n",
       "&lt;/script&gt;\n",
       "&lt;/html&gt;\" style=\"position:absolute;width:100%;height:100%;left:0;top:0;border:none !important;\" allowfullscreen webkitallowfullscreen mozallowfullscreen></iframe></div></div>"
      ],
      "text/plain": [
       "<folium.folium.Map at 0x17230817770>"
      ]
     },
     "execution_count": 10,
     "metadata": {},
     "output_type": "execute_result"
    }
   ],
   "source": [
    "# 샘플 데이터셋 생성 (10개만)\n",
    "gdf_sample = gdf.head(10)\n",
    "\n",
    "# 샘플 데이터셋의 중심 좌표 계산\n",
    "mean_lat = gdf_sample['dot'].apply(lambda p: p.y).mean()\n",
    "mean_lon = gdf_sample['dot'].apply(lambda p: p.x).mean()\n",
    "\n",
    "# 중심 좌표를 기준으로 지도를 생성\n",
    "m = folium.Map(location=[mean_lat, mean_lon], zoom_start=36)\n",
    "\n",
    "# 샘플 데이터셋의 지오메트리를 지도에 추가\n",
    "folium.GeoJson(gdf_sample[['geometry']].to_json()).add_to(m)\n",
    "\n",
    "# 각 샘플 데이터셋의 중심점에 원을 추가\n",
    "for idx, row in gdf_sample.iterrows():\n",
    "    if row['dot'] is not None:\n",
    "        folium.Circle(\n",
    "            location=[row['dot'].y, row['dot'].x],  # 중심점의 좌표\n",
    "            radius=1,  # 원의 반지름\n",
    "            color='red',  # 원의 선을 설정\n",
    "            fill=True,  # 원을 채워넣을지 여부\n",
    "            fill_color='red'  # 원을 채워넣을 때의 색\n",
    "        ).add_to(m)\n",
    "\n",
    "# 생성된 지도를 표시\n",
    "m\n",
    "\n",
    "# 지오메트리와 포인트를 따로 나눠서 찍는 이유:\n",
    "# 한 번에 처리 시 TypeError: Object of type Point is not JSON serializable 오류 발생"
   ]
  },
  {
   "cell_type": "code",
   "execution_count": 18,
   "metadata": {},
   "outputs": [],
   "source": [
    "# MeanShift 구현\n",
    "from sklearn.cluster import MeanShift\n",
    "\n",
    "# 대역폭 설정 (20m를 도 단위로 변환, 1도 ≈ 111km)\n",
    "bandwidth = 0.0022  # 약 20m에 해당\n",
    "\n",
    "# MeanShift 모델 생성 및 학습\n",
    "model = MeanShift(bandwidth=bandwidth, bin_seeding=True)\n",
    "model.fit(coords)\n",
    "clusters = model.labels_\n",
    "\n",
    "gdf['cluster'] = clusters\n",
    "\n",
    "# 클러스터 중심점 계산\n",
    "optimal_locations = {}\n",
    "for cluster_id in np.unique(clusters):\n",
    "    if cluster_id != -1:\n",
    "        center_lon, center_lat = model.cluster_centers_[cluster_id]\n",
    "        optimal_locations[cluster_id] = (center_lat, center_lon)\n",
    "\n",
    "# 시각화 부분은 기존 코드 유지\n",
    "colors = plt.cm.tab10.colors\n",
    "color_list = [f'#{int(r*255):02x}{int(g*255):02x}{int(b*255):02x}' for r, g, b in colors]\n",
    "\n",
    "# 중심점 좌표 설정\n",
    "if optimal_locations:\n",
    "    first_cluster_id = list(optimal_locations.keys())[0]\n",
    "    center_lat, center_lon = optimal_locations[first_cluster_id]\n",
    "elif not gdf.empty:\n",
    "    center_lat = gdf['dot'].iloc[0].y\n",
    "    center_lon = gdf['dot'].iloc[0].x\n",
    "else:\n",
    "    center_lat = 35.17\n",
    "    center_lon = 129.12\n",
    "\n",
    "m = folium.Map(location=[center_lat, center_lon], zoom_start=14)\n",
    "\n",
    "# 클러스터 포인트 시각화\n",
    "for idx, row in gdf.iterrows():\n",
    "    lat = row['dot'].y\n",
    "    lon = row['dot'].x\n",
    "    cluster = row['cluster']\n",
    "    \n",
    "    color = color_list[cluster % len(color_list)]  # 모든 포인트가 클러스터에 할당됨\n",
    "    \n",
    "    folium.CircleMarker(\n",
    "        location=[lat, lon],\n",
    "        radius=3,\n",
    "        color=color,\n",
    "        fill=True,\n",
    "        fill_color=color,\n",
    "        fill_opacity=0.8,\n",
    "        popup=f'cluster: {cluster}'\n",
    "    ).add_to(m)\n",
    "\n",
    "# 최적 위치 마커 추가\n",
    "for cluster_id, loc in optimal_locations.items():\n",
    "    folium.Marker(\n",
    "        location=[loc[0], loc[1]],\n",
    "        icon=folium.Icon(color='red', icon='info-sign'),\n",
    "        popup=f'Optimal Location for Cluster {cluster_id}'\n",
    "    ).add_to(m)\n",
    "\n",
    "m.save('meanshift_clusters_and_optimal_locations.html')"
   ]
  },
  {
   "cell_type": "code",
   "execution_count": null,
   "metadata": {},
   "outputs": [],
   "source": []
  }
 ],
 "metadata": {
  "kernelspec": {
   "display_name": "Busan_project",
   "language": "python",
   "name": "python3"
  },
  "language_info": {
   "codemirror_mode": {
    "name": "ipython",
    "version": 3
   },
   "file_extension": ".py",
   "mimetype": "text/x-python",
   "name": "python",
   "nbconvert_exporter": "python",
   "pygments_lexer": "ipython3",
   "version": "3.13.4"
  }
 },
 "nbformat": 4,
 "nbformat_minor": 2
}
