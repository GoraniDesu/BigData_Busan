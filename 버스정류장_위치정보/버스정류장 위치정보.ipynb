{
 "cells": [
  {
   "cell_type": "markdown",
   "metadata": {},
   "source": [
    "### 라이브러리"
   ]
  },
  {
   "cell_type": "code",
   "execution_count": 2,
   "metadata": {},
   "outputs": [],
   "source": [
    "import pandas as pd"
   ]
  },
  {
   "cell_type": "code",
   "execution_count": 3,
   "metadata": {},
   "outputs": [],
   "source": [
    "# 파일 불러오기\n",
    "df = pd.read_csv(\"../../Data_list/v1.0/국토교통부_전국 버스정류장 위치정보_20241028.csv\", encoding=\"cp949\")"
   ]
  },
  {
   "cell_type": "code",
   "execution_count": 4,
   "metadata": {},
   "outputs": [
    {
     "data": {
      "text/html": [
       "<div>\n",
       "<style scoped>\n",
       "    .dataframe tbody tr th:only-of-type {\n",
       "        vertical-align: middle;\n",
       "    }\n",
       "\n",
       "    .dataframe tbody tr th {\n",
       "        vertical-align: top;\n",
       "    }\n",
       "\n",
       "    .dataframe thead th {\n",
       "        text-align: right;\n",
       "    }\n",
       "</style>\n",
       "<table border=\"1\" class=\"dataframe\">\n",
       "  <thead>\n",
       "    <tr style=\"text-align: right;\">\n",
       "      <th></th>\n",
       "      <th>정류장번호</th>\n",
       "      <th>정류장명</th>\n",
       "      <th>위도</th>\n",
       "      <th>경도</th>\n",
       "      <th>정보수집일</th>\n",
       "      <th>모바일단축번호</th>\n",
       "      <th>도시코드</th>\n",
       "      <th>도시명</th>\n",
       "      <th>관리도시명</th>\n",
       "    </tr>\n",
       "  </thead>\n",
       "  <tbody>\n",
       "    <tr>\n",
       "      <th>0</th>\n",
       "      <td>ADB354000001</td>\n",
       "      <td>길안정류장</td>\n",
       "      <td>36.458658</td>\n",
       "      <td>128.891228</td>\n",
       "      <td>2024-10-28</td>\n",
       "      <td>540001.0</td>\n",
       "      <td>37040</td>\n",
       "      <td>경상북도 안동시</td>\n",
       "      <td>안동BIS</td>\n",
       "    </tr>\n",
       "  </tbody>\n",
       "</table>\n",
       "</div>"
      ],
      "text/plain": [
       "          정류장번호   정류장명         위도          경도       정보수집일   모바일단축번호   도시코드  \\\n",
       "0  ADB354000001  길안정류장  36.458658  128.891228  2024-10-28  540001.0  37040   \n",
       "\n",
       "        도시명  관리도시명  \n",
       "0  경상북도 안동시  안동BIS  "
      ]
     },
     "execution_count": 4,
     "metadata": {},
     "output_type": "execute_result"
    }
   ],
   "source": [
    "# 데이터 확인\n",
    "df.head(1)"
   ]
  },
  {
   "cell_type": "code",
   "execution_count": 5,
   "metadata": {},
   "outputs": [
    {
     "data": {
      "text/plain": [
       "도시명\n",
       "부산광역시          9815\n",
       "인천광역시          9132\n",
       "대구광역시          5853\n",
       "경상북도 경산시       4606\n",
       "광주광역시          4263\n",
       "               ... \n",
       "충청북도 증평군          4\n",
       "강원특별자치도 양구군       2\n",
       "전라남도 담양군          2\n",
       "경상남도 진해시          1\n",
       "전라남도 강진군          1\n",
       "Name: count, Length: 160, dtype: int64"
      ]
     },
     "execution_count": 5,
     "metadata": {},
     "output_type": "execute_result"
    }
   ],
   "source": [
    "df['도시명'].value_counts()"
   ]
  },
  {
   "cell_type": "code",
   "execution_count": 6,
   "metadata": {},
   "outputs": [
    {
     "data": {
      "text/plain": [
       "도시명\n",
       "부산광역시    9815\n",
       "Name: count, dtype: int64"
      ]
     },
     "execution_count": 6,
     "metadata": {},
     "output_type": "execute_result"
    }
   ],
   "source": [
    "# 도시가 부산인 데이터만 추출\n",
    "df = df[df['도시명'].str.contains('부산')]\n",
    "df['도시명'].value_counts()"
   ]
  },
  {
   "cell_type": "code",
   "execution_count": 7,
   "metadata": {},
   "outputs": [
    {
     "name": "stdout",
     "output_type": "stream",
     "text": [
      "<class 'pandas.core.frame.DataFrame'>\n",
      "Index: 9815 entries, 6290 to 108306\n",
      "Data columns (total 9 columns):\n",
      " #   Column   Non-Null Count  Dtype  \n",
      "---  ------   --------------  -----  \n",
      " 0   정류장번호    9815 non-null   object \n",
      " 1   정류장명     9815 non-null   object \n",
      " 2   위도       9815 non-null   float64\n",
      " 3   경도       9815 non-null   float64\n",
      " 4   정보수집일    9815 non-null   object \n",
      " 5   모바일단축번호  4453 non-null   float64\n",
      " 6   도시코드     9815 non-null   int64  \n",
      " 7   도시명      9815 non-null   object \n",
      " 8   관리도시명    9815 non-null   object \n",
      "dtypes: float64(3), int64(1), object(5)\n",
      "memory usage: 766.8+ KB\n"
     ]
    }
   ],
   "source": [
    "df.info()"
   ]
  },
  {
   "cell_type": "markdown",
   "metadata": {},
   "source": [
    "- 일부 모바일 단축번호가 누락된 걸 확인 가능하나 관계없으므로 진행"
   ]
  },
  {
   "cell_type": "markdown",
   "metadata": {},
   "source": [
    "# 지도 시각화"
   ]
  },
  {
   "cell_type": "code",
   "execution_count": 8,
   "metadata": {},
   "outputs": [],
   "source": [
    "import folium\n",
    "from folium.plugins import MarkerCluster\n",
    "\n",
    "# 위도와 경도를 사용하여 지도 생성\n",
    "map = folium.Map(location=[df['위도'].mean(), df['경도'].mean()], zoom_start=20)\n",
    "\n",
    "# 마커 클러스터 생성\n",
    "marker_cluster = MarkerCluster().add_to(map)\n",
    "\n",
    "# 모든 정류장에 마커 추가\n",
    "for _, row in df.iterrows():\n",
    "    folium.Marker([row['위도'], row['경도']], popup=row['정류장명']).add_to(marker_cluster)\n",
    "\n",
    "# 지도 출력\n",
    "map.save('map.html')"
   ]
  },
  {
   "cell_type": "markdown",
   "metadata": {},
   "source": [
    "- 파일 저장"
   ]
  },
  {
   "cell_type": "code",
   "execution_count": 10,
   "metadata": {},
   "outputs": [],
   "source": [
    "df.to_csv(\"버스정류장_위치.csv\", index=False, encoding=\"utf-8\")"
   ]
  }
 ],
 "metadata": {
  "kernelspec": {
   "display_name": "base",
   "language": "python",
   "name": "python3"
  },
  "language_info": {
   "codemirror_mode": {
    "name": "ipython",
    "version": 3
   },
   "file_extension": ".py",
   "mimetype": "text/x-python",
   "name": "python",
   "nbconvert_exporter": "python",
   "pygments_lexer": "ipython3",
   "version": "3.12.7"
  }
 },
 "nbformat": 4,
 "nbformat_minor": 2
}
