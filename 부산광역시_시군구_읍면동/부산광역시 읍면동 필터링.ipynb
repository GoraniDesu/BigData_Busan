{
 "cells": [
  {
   "cell_type": "code",
   "execution_count": null,
   "id": "02ddf36f",
   "metadata": {},
   "outputs": [],
   "source": [
    "%pip install geopandas pandas matplotlib"
   ]
  },
  {
   "cell_type": "code",
   "execution_count": null,
   "id": "c5650546",
   "metadata": {},
   "outputs": [],
   "source": [
    "import geopandas as gpd\n",
    "\n",
    "# Shapefile 경로 설정\n",
    "shp_file_path = \"../../Data_list/v2.0/pbps_DA_EMD_202307/DA_EMD_202307.shp\"\n",
    "\n",
    "# Shapefile 읽기\n",
    "gdf = gpd.read_file(shp_file_path, encoding='cp949')\n",
    "\n",
    "# 데이터 확인\n",
    "print(gdf.head())  # 데이터프레임의 처음 5행 출력"
   ]
  },
  {
   "cell_type": "markdown",
   "id": "cbfa09cf",
   "metadata": {},
   "source": [
    "통계청 통계분류포털에서 부산광역시를 검색한 결과 분류코드가 21번임을 확인\n",
    "\n",
    "행정경계 제공서비스를 통해 다운받은 데이터의 컬럼을 확인하여 ADM_CD 컬럼이 21로 시작하는 행을 필터링\n",
    "\n",
    "출처: https://kssc.kostat.go.kr:8443/ksscNew_web/index.jsp#\n",
    "\n",
    "분류코드 확인 방법\n",
    "1. 사회분류 -> 일반분류 -> 한국행정구역분류 클릭\n",
    "2. 검색 -> 분류내용보기(해설서) 클릭 -> 새 창에서 검색 기능 활용\n",
    "3. 서울특별시 -> 종로구 -> 사직동 클릭 시 분류코드가 11010530으로 ADM_CD 컬럼의 숫자와 자릿수가 모두 일치함을 확인\n",
    "4. 부산광역시 클릭 시 분류코드가 21임을 확인\n",
    "5. ADM_CD 컬럼이 21로 시작하는 행이 부산광역시 읍면동임을 확인"
   ]
  },
  {
   "cell_type": "code",
   "execution_count": null,
   "id": "9a5ee7a1",
   "metadata": {},
   "outputs": [],
   "source": [
    "# ADM_CD 컬럼이 '21'로 시작하는(부산광역시) 행만 필터링\n",
    "busan_shp = gdf[gdf['ADM_CD'].astype(str).str.startswith('21')]\n",
    "len(busan_shp.index) # 필터링한 부산광역시 읍면동의 개수 출력"
   ]
  },
  {
   "cell_type": "markdown",
   "id": "367e74a6",
   "metadata": {},
   "source": [
    "### 문제점\n",
    "- 부산광역시 행정 읍/면/동 현황은 총 206개입니다.\n",
    "- 그러나 출력한 부산광역시 읍면동 행의 개수는 205개로 1개 부족합니다.\n",
    "- 확인 결과 2025년 1월 녹산동 주민 절반이 모여있는 신호동이 행정 편의를 위해 2개 동으로 나뉘어졌습니다.\n",
    "- 아래 코드를 실행하여 ADM_NM 컬럼에 녹산동은 있고 신호동이 없음을 확인했습니다.\n",
    "- 2025년 1월 이후 법정동 최신자료는 있지만 행정동 최신자료는 찾지 못 하여 현재 자료로 신호동이 없음을 감안하고 시각화에 이용했습니다.\n",
    "\n",
    "출처\n",
    "- 부산광역시 행정 읍/면/동 현황: https://www.busan.go.kr/bhaddis02\n",
    "- 부산광역시 강서구청 페이스북: https://www.facebook.com/bsgangseo/posts/25%EB%85%84%EB%B6%80%ED%84%B0-%EB%85%B9%EC%82%B0%EB%8F%99%EC%9D%80-%EB%B6%84%EB%8F%99-%ED%99%95%EC%A0%95%EB%85%B9%EC%82%B0%EB%8F%99-%EC%A3%BC%EB%AF%BC-%EC%A0%88%EB%B0%98%EC%9D%B4-%EB%AA%A8%EC%97%AC%EC%9E%88%EB%8A%94-%EC%8B%A0%ED%98%B8%EB%8F%99%EC%9D%B4%ED%96%89%EC%A0%95-%ED%8E%B8%EC%9D%98%EB%A5%BC-%EC%9C%84%ED%95%B4-2%EA%B0%9C-%EB%8F%99%EC%9C%BC%EB%A1%9C-%EB%82%98%EB%89%98%EC%96%B4%EC%A7%84%EB%8B%A4%EB%84%A4%EC%9A%94%EC%8B%A0%ED%98%B8%EB%8F%99-%EC%A3%BC%EB%AF%BC-%EC%97%AC%EB%9F%AC%EB%B6%84%EC%9D%B8%EA%B0%90%EB%8F%84%EC%9E%A5-%ED%95%98%EB%82%98-%EB%B3%80%EA%B2%BD/1026134332890235/\n",
    "- 부산광역시 강서구 인스타그램: https://www.instagram.com/p/DDgvg-4zNh3/"
   ]
  },
  {
   "cell_type": "code",
   "execution_count": null,
   "id": "938c2e0f",
   "metadata": {},
   "outputs": [],
   "source": [
    "print(busan_shp[busan_shp['ADM_NM'].str.contains('신호동')])\n",
    "print(busan_shp[busan_shp['ADM_NM'].str.contains('녹산동')])\n",
    "# 출력 결과 신호동은 BASE_DATE\tADM_NM\tADM_CD\tgeometry 컬럼만 표시되고 행은 없음\n",
    "# 녹산동은 정상 출력"
   ]
  },
  {
   "cell_type": "code",
   "execution_count": null,
   "id": "724d5217",
   "metadata": {},
   "outputs": [],
   "source": [
    "import os\n",
    "\n",
    "# '부산광역시_읍면동' 폴더 생성\n",
    "os.makedirs(\"부산광역시_읍면동\", exist_ok=True)\n",
    "\n",
    "# busan_shp를 새로운 Shapefile로 저장 후 QGIS에서 활용\n",
    "busan_shp.to_file(\"부산광역시_읍면동/부산광역시_읍면동.shp\", encoding='cp949')"
   ]
  }
 ],
 "metadata": {
  "kernelspec": {
   "display_name": "base",
   "language": "python",
   "name": "python3"
  },
  "language_info": {
   "codemirror_mode": {
    "name": "ipython",
    "version": 3
   },
   "file_extension": ".py",
   "mimetype": "text/x-python",
   "name": "python",
   "nbconvert_exporter": "python",
   "pygments_lexer": "ipython3",
   "version": "3.12.7"
  }
 },
 "nbformat": 4,
 "nbformat_minor": 5
}
