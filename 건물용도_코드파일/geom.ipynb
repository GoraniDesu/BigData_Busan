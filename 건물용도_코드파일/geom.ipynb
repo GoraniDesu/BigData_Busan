{
 "cells": [
  {
   "cell_type": "markdown",
   "id": "5eaa8db8",
   "metadata": {},
   "source": [
    "# 부산시 건물용도 코드파일"
   ]
  },
  {
   "cell_type": "code",
   "execution_count": 1,
   "id": "ba445263",
   "metadata": {},
   "outputs": [],
   "source": [
    "import geopandas as gpd\n",
    "import os"
   ]
  },
  {
   "cell_type": "markdown",
   "id": "3638b664",
   "metadata": {},
   "source": [
    "## 데이터 불러오기"
   ]
  },
  {
   "cell_type": "markdown",
   "id": "6c9adbf1",
   "metadata": {},
   "source": [
    "- gpd_loader.py에서 get_gpd함수 가져오기\n",
    "- 부산 내 16개의 구의 건물용도 .shp파일을 불러서 df로 저장하는 함수"
   ]
  },
  {
   "cell_type": "code",
   "execution_count": null,
   "id": "ce1f9bba",
   "metadata": {},
   "outputs": [],
   "source": [
    "from gpd_loader import get_gpd\n",
    "\n",
    "dir_path = '용도별건물공간확보_부산' \n",
    "자치구_list, df_dict = get_gpd(dir_path)"
   ]
  },
  {
   "cell_type": "markdown",
   "id": "3dd6a18f",
   "metadata": {},
   "source": [
    "- 각 구이름을 key로 df는 value에 저장되어있음"
   ]
  },
  {
   "cell_type": "code",
   "execution_count": null,
   "id": "f90f9b29",
   "metadata": {},
   "outputs": [
    {
     "data": {
      "text/plain": [
       "dict_keys(['강서구', '금정구', '기장군', '남구', '동구', '동래구', '부산진구', '북구', '사상구', '사하구', '서구', '수영구', '연제구', '영도구', '중구', '해운대구'])"
      ]
     },
     "execution_count": 4,
     "metadata": {},
     "output_type": "execute_result"
    }
   ],
   "source": [
    "df_dict.keys()"
   ]
  },
  {
   "cell_type": "markdown",
   "id": "814daa63",
   "metadata": {},
   "source": [
    "- 원본 유지를 위해 복사본 생성"
   ]
  },
  {
   "cell_type": "code",
   "execution_count": null,
   "id": "6bf5bab9",
   "metadata": {},
   "outputs": [],
   "source": [
    "df_dict_copy = df_dict.copy() "
   ]
  },
  {
   "cell_type": "code",
   "execution_count": 7,
   "id": "32c302ae",
   "metadata": {},
   "outputs": [
    {
     "data": {
      "text/html": [
       "<div>\n",
       "<style scoped>\n",
       "    .dataframe tbody tr th:only-of-type {\n",
       "        vertical-align: middle;\n",
       "    }\n",
       "\n",
       "    .dataframe tbody tr th {\n",
       "        vertical-align: top;\n",
       "    }\n",
       "\n",
       "    .dataframe thead th {\n",
       "        text-align: right;\n",
       "    }\n",
       "</style>\n",
       "<table border=\"1\" class=\"dataframe\">\n",
       "  <thead>\n",
       "    <tr style=\"text-align: right;\">\n",
       "      <th></th>\n",
       "      <th>A0</th>\n",
       "      <th>A1</th>\n",
       "      <th>A2</th>\n",
       "      <th>A3</th>\n",
       "      <th>A4</th>\n",
       "      <th>A5</th>\n",
       "      <th>A6</th>\n",
       "      <th>A7</th>\n",
       "      <th>A8</th>\n",
       "      <th>A9</th>\n",
       "      <th>...</th>\n",
       "      <th>A27</th>\n",
       "      <th>A28</th>\n",
       "      <th>A29</th>\n",
       "      <th>A30</th>\n",
       "      <th>A31</th>\n",
       "      <th>A32</th>\n",
       "      <th>A33</th>\n",
       "      <th>A34</th>\n",
       "      <th>A35</th>\n",
       "      <th>geometry</th>\n",
       "    </tr>\n",
       "  </thead>\n",
       "  <tbody>\n",
       "    <tr>\n",
       "      <th>0</th>\n",
       "      <td>32511418</td>\n",
       "      <td>2002199031551910905200000000</td>\n",
       "      <td>2644010100101940001</td>\n",
       "      <td>2644010100</td>\n",
       "      <td>부산광역시 강서구 대저1동</td>\n",
       "      <td>1</td>\n",
       "      <td>일반</td>\n",
       "      <td>194-1</td>\n",
       "      <td>103916038</td>\n",
       "      <td>1</td>\n",
       "      <td>...</td>\n",
       "      <td>축사</td>\n",
       "      <td>3</td>\n",
       "      <td>농수산용</td>\n",
       "      <td>5.4</td>\n",
       "      <td>1.0</td>\n",
       "      <td>0.0</td>\n",
       "      <td>2002-03-28</td>\n",
       "      <td>2002-06-04</td>\n",
       "      <td>2025-01-10 02:22:27.4122</td>\n",
       "      <td>POLYGON ((381208.163 293218.43, 381204.375 293...</td>\n",
       "    </tr>\n",
       "    <tr>\n",
       "      <th>1</th>\n",
       "      <td>32491218</td>\n",
       "      <td>2002198998511910971000000000</td>\n",
       "      <td>2644010100101940008</td>\n",
       "      <td>2644010100</td>\n",
       "      <td>부산광역시 강서구 대저1동</td>\n",
       "      <td>1</td>\n",
       "      <td>일반</td>\n",
       "      <td>194-8</td>\n",
       "      <td>103916039</td>\n",
       "      <td>1</td>\n",
       "      <td>...</td>\n",
       "      <td>기타창고시설</td>\n",
       "      <td>7</td>\n",
       "      <td>기타</td>\n",
       "      <td>5.4</td>\n",
       "      <td>1.0</td>\n",
       "      <td>NaN</td>\n",
       "      <td>2002-03-28</td>\n",
       "      <td>2002-06-04</td>\n",
       "      <td>2025-01-10 02:22:27.4122</td>\n",
       "      <td>POLYGON ((381143.488 293230.135, 381173.095 29...</td>\n",
       "    </tr>\n",
       "    <tr>\n",
       "      <th>2</th>\n",
       "      <td>32553288</td>\n",
       "      <td>2002198987001910982000000000</td>\n",
       "      <td>2644010100101940009</td>\n",
       "      <td>2644010100</td>\n",
       "      <td>부산광역시 강서구 대저1동</td>\n",
       "      <td>1</td>\n",
       "      <td>일반</td>\n",
       "      <td>194-9</td>\n",
       "      <td>103916040</td>\n",
       "      <td>1</td>\n",
       "      <td>...</td>\n",
       "      <td>사무소</td>\n",
       "      <td>2</td>\n",
       "      <td>상업용</td>\n",
       "      <td>5.4</td>\n",
       "      <td>1.0</td>\n",
       "      <td>NaN</td>\n",
       "      <td>2002-03-28</td>\n",
       "      <td>2002-06-04</td>\n",
       "      <td>2025-01-10 02:22:27.4122</td>\n",
       "      <td>POLYGON ((381144.389 293228.515, 381149.731 29...</td>\n",
       "    </tr>\n",
       "  </tbody>\n",
       "</table>\n",
       "<p>3 rows × 37 columns</p>\n",
       "</div>"
      ],
      "text/plain": [
       "         A0                            A1                   A2          A3  \\\n",
       "0  32511418  2002199031551910905200000000  2644010100101940001  2644010100   \n",
       "1  32491218  2002198998511910971000000000  2644010100101940008  2644010100   \n",
       "2  32553288  2002198987001910982000000000  2644010100101940009  2644010100   \n",
       "\n",
       "               A4 A5  A6     A7         A8 A9  ...     A27 A28   A29  A30  \\\n",
       "0  부산광역시 강서구 대저1동  1  일반  194-1  103916038  1  ...      축사   3  농수산용  5.4   \n",
       "1  부산광역시 강서구 대저1동  1  일반  194-8  103916039  1  ...  기타창고시설   7    기타  5.4   \n",
       "2  부산광역시 강서구 대저1동  1  일반  194-9  103916040  1  ...     사무소   2   상업용  5.4   \n",
       "\n",
       "   A31  A32         A33         A34                       A35  \\\n",
       "0  1.0  0.0  2002-03-28  2002-06-04  2025-01-10 02:22:27.4122   \n",
       "1  1.0  NaN  2002-03-28  2002-06-04  2025-01-10 02:22:27.4122   \n",
       "2  1.0  NaN  2002-03-28  2002-06-04  2025-01-10 02:22:27.4122   \n",
       "\n",
       "                                            geometry  \n",
       "0  POLYGON ((381208.163 293218.43, 381204.375 293...  \n",
       "1  POLYGON ((381143.488 293230.135, 381173.095 29...  \n",
       "2  POLYGON ((381144.389 293228.515, 381149.731 29...  \n",
       "\n",
       "[3 rows x 37 columns]"
      ]
     },
     "execution_count": 7,
     "metadata": {},
     "output_type": "execute_result"
    }
   ],
   "source": [
    "df_dict_copy['강서구'].head(3)"
   ]
  },
  {
   "cell_type": "markdown",
   "id": "9cdd46ef",
   "metadata": {},
   "source": [
    "## EDA"
   ]
  },
  {
   "cell_type": "markdown",
   "id": "5fa512e7",
   "metadata": {},
   "source": [
    "- A25:주요용도명\n",
    "- A27:세부용도명\n",
    "- A29:건물용도명 "
   ]
  },
  {
   "cell_type": "code",
   "execution_count": 12,
   "id": "8b73680a",
   "metadata": {},
   "outputs": [],
   "source": [
    "columns = ['A25' , 'A27', 'A29']"
   ]
  },
  {
   "cell_type": "code",
   "execution_count": 13,
   "id": "a37806db",
   "metadata": {},
   "outputs": [
    {
     "data": {
      "text/html": [
       "<div>\n",
       "<style scoped>\n",
       "    .dataframe tbody tr th:only-of-type {\n",
       "        vertical-align: middle;\n",
       "    }\n",
       "\n",
       "    .dataframe tbody tr th {\n",
       "        vertical-align: top;\n",
       "    }\n",
       "\n",
       "    .dataframe thead th {\n",
       "        text-align: right;\n",
       "    }\n",
       "</style>\n",
       "<table border=\"1\" class=\"dataframe\">\n",
       "  <thead>\n",
       "    <tr style=\"text-align: right;\">\n",
       "      <th></th>\n",
       "      <th>A25</th>\n",
       "      <th>A27</th>\n",
       "      <th>A29</th>\n",
       "    </tr>\n",
       "  </thead>\n",
       "  <tbody>\n",
       "    <tr>\n",
       "      <th>0</th>\n",
       "      <td>동.식물 관련시설</td>\n",
       "      <td>축사</td>\n",
       "      <td>농수산용</td>\n",
       "    </tr>\n",
       "    <tr>\n",
       "      <th>1</th>\n",
       "      <td>창고시설</td>\n",
       "      <td>기타창고시설</td>\n",
       "      <td>기타</td>\n",
       "    </tr>\n",
       "    <tr>\n",
       "      <th>2</th>\n",
       "      <td>제2종근린생활시설</td>\n",
       "      <td>사무소</td>\n",
       "      <td>상업용</td>\n",
       "    </tr>\n",
       "    <tr>\n",
       "      <th>3</th>\n",
       "      <td>제2종근린생활시설</td>\n",
       "      <td>제조업소</td>\n",
       "      <td>상업용</td>\n",
       "    </tr>\n",
       "    <tr>\n",
       "      <th>4</th>\n",
       "      <td>단독주택</td>\n",
       "      <td>단독주택</td>\n",
       "      <td>주거용</td>\n",
       "    </tr>\n",
       "  </tbody>\n",
       "</table>\n",
       "</div>"
      ],
      "text/plain": [
       "         A25     A27   A29\n",
       "0  동.식물 관련시설      축사  농수산용\n",
       "1       창고시설  기타창고시설    기타\n",
       "2  제2종근린생활시설     사무소   상업용\n",
       "3  제2종근린생활시설    제조업소   상업용\n",
       "4       단독주택    단독주택   주거용"
      ]
     },
     "execution_count": 13,
     "metadata": {},
     "output_type": "execute_result"
    }
   ],
   "source": [
    "df_dict['강서구'][columns].head()"
   ]
  },
  {
   "cell_type": "markdown",
   "id": "80c87dcb",
   "metadata": {},
   "source": [
    "- 강서구를 예시로 A29, A25, A27순으로 더 세세하게 나뉨\n",
    "- 그 값들을 각각 확인한다"
   ]
  },
  {
   "cell_type": "code",
   "execution_count": 14,
   "id": "263055f6",
   "metadata": {},
   "outputs": [
    {
     "name": "stdout",
     "output_type": "stream",
     "text": [
      "건물용도_종류 \n",
      ":  ['농수산용' '기타' '상업용' '주거용' '문교사회용' '공업용' None '공공용'] \n",
      "\n",
      "주요용도_종류 \n",
      ":  ['동.식물 관련시설' '창고시설' '제2종근린생활시설' '단독주택' '근린생활시설' '제1종근린생활시설' '분뇨.쓰레기처리시설'\n",
      " '교육연구및복지시설' '공장' '교육연구시설' '노유자시설' '문화및집회시설' '업무시설' '위험물저장및처리시설' None\n",
      " '공공용시설' '판매시설' '판매및영업시설' '종교시설' '운수시설' '운동시설' '숙박시설' '자동차관련시설' '의료시설'\n",
      " '공동주택' '방송통신시설' '관광휴게시설' '교정및군사시설' '제조업소' '위락시설'] \n",
      "\n",
      "세부용도_종류 \n",
      ":  ['축사' '기타창고시설' '사무소' '제조업소' '단독주택' '창고' '근린생활시설' '기타사무소' '기타제2종근생활시설'\n",
      " '수리점' '제2종근린생활시설' '제1종근린생활시설' '소매점' '일반음식점' '창고시설' '일반창고' '양수장'\n",
      " '기타동식물관련시설' '분뇨.쓰레기처리시설' '교육연구및복지시설' '마을공동시설' '표구점' '일반공장' '기타학교'\n",
      " '사회복지시설' '학원' '문화및집회시설' '버섯재배사' '기타일반업무시설' '기타공공시설' '업무시설' '기타위험물저장처리시설'\n",
      " '주유소' '분뇨처리시설' '휴게음식점' '다가구주택' '마을회관' None '동.식물 관련시설' '공공용시설' '일반목욕장'\n",
      " '이(미)용원' '기타제1종근생활시설' '부동산중개사무소' '기타교육연구및복지시설' '기타판매시설' '교회' '의약품도매점'\n",
      " '액화석유가스충전소' '위험물저장소' '마을공동구판장' '의원' '기타근린생활시설' '기타종교집회장' '판매및영업시설' '성당'\n",
      " '공공시설' '부화장' '도축장' '노래연습장' '고등학교' '우체국' '영유아보육시설' '유치원' '공항시설' '부동산중개업소'\n",
      " '초등학교' '승마장' '작물재배사' '기타공공용시설' '기타공공업무시설' '노인복지시설' '보건소' '공장' '자동차영업소'\n",
      " '석유판매소' '온실' '종묘배양시설' '위험물저장및처리시설' '폐기물처리시설' '전신전화국' '여인숙' '마을공동작업소'\n",
      " '기타교육연구시설' '사찰' '동사무소' '여관' '체육도장' '다중주택' '자동차관련시설' '세차장' '어린이집' '가축용창고'\n",
      " '제실' '변전소' '기타공장' '물품 제조공장' '물류터미널' '위험물제조소' '정비공장' '검사장' '폐차장'\n",
      " '기타자동차관련시설' '유해공장' '금융업소' '고시원' '연구소' '주차장' '유독물저장소' '폐기물재활용시설'\n",
      " '기타분뇨쓰레기처리시설' '종교시설' '공중화장실' '경마장' '종교집회장' '기타노유자시설' '중학교' '교육연구시설' '소방서'\n",
      " '병원' '기타전시장' '자치단체청사' '골프연습장' '파출소' '체력단련장' '기념관' '기숙사' '관망탑' '항만시설(터미널)'\n",
      " '한의원' '탁구장' '지역자치센터' '출판사' '항만시설' '정수장' '휴게소' '기타운수시설' '집배송시설' '철도시설'\n",
      " '냉동창고' '액화가스판매소' '물품 가공공장' '체육관' '테니스장' '시장' '가스배관시설' '목욕장' '통신용시설'\n",
      " '기타일반숙박시설' '다세대주택' '관리사' '교육원' '제과점' '국방·군사시설' '지구대' '기타운동시설' '미용원'\n",
      " '국가기관청사' '공원에 부수되는 시설' '관광호텔' '기원' '상점' '아파트' '오피스텔' '기타도매시장' '연립주택'\n",
      " '단란주점' '유흥주점'] \n",
      "\n",
      "8 개 30 개 168 개\n"
     ]
    }
   ],
   "source": [
    "print('건물용도_종류 \\n: ', df_dict_copy['강서구'].A29.unique(), '\\n')\n",
    "print('주요용도_종류 \\n: ', df_dict_copy['강서구'].A25.unique(), '\\n')\n",
    "print('세부용도_종류 \\n: ', df_dict_copy['강서구'].A27.unique(), '\\n')\n",
    "print(len(df_dict_copy['강서구'].A29.unique()),'개' , len(df_dict_copy['강서구'].A25.unique()), '개', len(df_dict_copy['강서구'].A27.unique()),'개')"
   ]
  },
  {
   "cell_type": "markdown",
   "id": "9b1ccf0c",
   "metadata": {},
   "source": [
    "> 구 이름을 변경하면서 살펴본 결과 각 구마다 건물용도 종류가 다름 "
   ]
  },
  {
   "cell_type": "markdown",
   "id": "37a3f488",
   "metadata": {},
   "source": [
    "- 건물용도에 해당하는 열(A25, A27, A29)에 해당하는 열만 남기고\n",
    "    - 3가지 모두 None인 건물은 용도를 알 수 없으므로 drop\n",
    "    - 가장 세분화된 열인 A27을 메인으로 사용함\n",
    "        - 세부용도명(A27)이 None일 시, 주요용도명(A25)의 값으로 채움\n",
    "        - 세부용도명(A27)과 주요용도명(A25) 모두 None일 시, 건물용도명(A29)의 값으로 채움"
   ]
  },
  {
   "cell_type": "markdown",
   "id": "24441247",
   "metadata": {},
   "source": [
    "## 전처리"
   ]
  },
  {
   "cell_type": "code",
   "execution_count": 12,
   "id": "266cf54f",
   "metadata": {},
   "outputs": [],
   "source": [
    "def fill_na(df):\n",
    "    df = df.dropna(subset=columns, how='all')\n",
    "    df.loc[df['A27'].isna(), 'A27'] = df.loc[df['A27'].isna(), 'A25']\n",
    "    df.loc[df['A27'].isna(), 'A27'] = df.loc[df['A27'].isna(), 'A29']\n",
    "    return df"
   ]
  },
  {
   "cell_type": "markdown",
   "id": "6be8bdb3",
   "metadata": {},
   "source": [
    "- 각 구마다 적용하기 위해 for문을 사용\n",
    "    - fillna()함수를 적용\n",
    "    - A27, A25, A29 컬럼만 남김"
   ]
  },
  {
   "cell_type": "code",
   "execution_count": 13,
   "id": "f6a9f7c2",
   "metadata": {},
   "outputs": [],
   "source": [
    "for df_key, df in df_dict_copy.items():\n",
    "    df_dict_copy[df_key] = fill_na(df)\n",
    "    df_dict_copy[df_key] = df_dict_copy[df_key][columns]\n",
    "    "
   ]
  },
  {
   "cell_type": "markdown",
   "id": "4dd89828",
   "metadata": {},
   "source": [
    "- 각 구의 df에서 A27에 있는 값들을 전부 뽑아서 list화 하는데 set을 이용하여 중복을 제거"
   ]
  },
  {
   "cell_type": "code",
   "execution_count": 14,
   "id": "059a0300",
   "metadata": {},
   "outputs": [],
   "source": [
    "a27_list = list(set(val for df in df_dict_copy.values() for val in df['A27'].unique()))"
   ]
  },
  {
   "cell_type": "markdown",
   "id": "4db6b762",
   "metadata": {},
   "source": [
    "- 16개 구에 해당하는 건물세부용도 이름이 전부 a27_list에 저장됐고 이를 살펴보기위해 txt파일로 변환"
   ]
  },
  {
   "cell_type": "code",
   "execution_count": 15,
   "id": "0ef5f792",
   "metadata": {},
   "outputs": [],
   "source": [
    "with open('a27_list.txt', 'w', encoding='utf-8') as f:\n",
    "    for item in a27_list:\n",
    "        f.write(f\"{item}\\n\")"
   ]
  },
  {
   "cell_type": "code",
   "execution_count": 13,
   "id": "b166c70b",
   "metadata": {},
   "outputs": [
    {
     "data": {
      "text/plain": [
       "352"
      ]
     },
     "execution_count": 13,
     "metadata": {},
     "output_type": "execute_result"
    }
   ],
   "source": [
    "len(a27_list)"
   ]
  },
  {
   "cell_type": "markdown",
   "id": "60de9fef",
   "metadata": {},
   "source": [
    "- 352개의 건물세부용도명을 살펴본 결과\n",
    "- 학교(대학교, 고등학교 제외), 유치원, 어린이집, 노유자시설(어린이 시설이 포함되었기에), 주거용 건물 총 19개로 추려짐\n",
    "- 이를 nearby_list에 저장\n",
    "- 건물 선정 이유는 학교, 주거용 근처에 들락날락이 존재해야 부모님을 기다리는 시간에 편하게 방문하기 좋기 때문"
   ]
  },
  {
   "cell_type": "code",
   "execution_count": 15,
   "id": "5ed4f5c7",
   "metadata": {},
   "outputs": [],
   "source": [
    "with open('nearby.txt', 'r', encoding='utf-8') as f:\n",
    "    nearby_list = [line.strip() for line in f.readlines()]"
   ]
  },
  {
   "cell_type": "code",
   "execution_count": 16,
   "id": "39310498",
   "metadata": {},
   "outputs": [
    {
     "data": {
      "text/plain": [
       "['영유아보육시설',\n",
       " '다세대주택',\n",
       " '아동복지시설',\n",
       " '단독주택',\n",
       " '초등학교',\n",
       " '유치원',\n",
       " '주거용',\n",
       " '어린이집',\n",
       " '아파트',\n",
       " '학원',\n",
       " '중학교',\n",
       " '지역아동센터',\n",
       " '기타아동관련시설',\n",
       " '다가구주택',\n",
       " '공동주택',\n",
       " '노유자시설',\n",
       " '다중주택',\n",
       " '아동관련시설',\n",
       " '학교']"
      ]
     },
     "execution_count": 16,
     "metadata": {},
     "output_type": "execute_result"
    }
   ],
   "source": [
    "nearby_list"
   ]
  },
  {
   "cell_type": "markdown",
   "id": "73a66993",
   "metadata": {},
   "source": [
    "- 원본 데이터프레임에 앞서 언급한 fill_na함수를 적용 (copy본은 A25, A27, A29열만 뽑아놨으니 쓸 수 없음)\n",
    "- 데이터 프레임에 A27의 값이 nearby_list에 있는 행만 남김\n",
    "- 각 구별 남은 건물용도명과 어떤것들이 있는지 확인"
   ]
  },
  {
   "cell_type": "code",
   "execution_count": 20,
   "id": "3692bdd9",
   "metadata": {},
   "outputs": [
    {
     "name": "stdout",
     "output_type": "stream",
     "text": [
      "강서구의 A27 값 12 \n",
      ":  ['단독주택' '학원' '다가구주택' '영유아보육시설' '유치원' '초등학교' '다중주택' '주거용' '어린이집' '중학교'\n",
      " '다세대주택' '아파트']\n",
      "금정구의 A27 값 17 \n",
      ":  ['단독주택' '다가구주택' '학원' '기타아동관련시설' '아동복지시설' '초등학교' '다중주택' '어린이집' '영유아보육시설'\n",
      " '유치원' '중학교' '지역아동센터' '다세대주택' '노유자시설' '공동주택' '주거용' '아파트']\n",
      "기장군의 A27 값 16 \n",
      ":  ['단독주택' '다가구주택' '학원' '기타아동관련시설' '영유아보육시설' '초등학교' '아동복지시설' '공동주택' '어린이집'\n",
      " '지역아동센터' '유치원' '중학교' '다중주택' '다세대주택' '노유자시설' '아파트']\n",
      "남구의 A27 값 15 \n",
      ":  ['다가구주택' '단독주택' '학원' '공동주택' '초등학교' '유치원' '중학교' '영유아보육시설' '어린이집' '기타아동관련시설'\n",
      " '노유자시설' '다중주택' '아동복지시설' '다세대주택' '아파트']\n",
      "동구의 A27 값 16 \n",
      ":  ['단독주택' '학원' '다가구주택' '지역아동센터' '유치원' '초등학교' '중학교' '영유아보육시설' '다중주택' '공동주택'\n",
      " '어린이집' '기타아동관련시설' '아동관련시설' '다세대주택' '노유자시설' '아파트']\n",
      "동래구의 A27 값 16 \n",
      ":  ['단독주택' '다가구주택' '기타아동관련시설' '어린이집' '초등학교' '중학교' '학원' '영유아보육시설' '유치원' '공동주택'\n",
      " '노유자시설' '지역아동센터' '다중주택' '다세대주택' '아동복지시설' '아파트']\n",
      "부산진구의 A27 값 17 \n",
      ":  ['단독주택' '다가구주택' '학원' '초등학교' '중학교' '유치원' '기타아동관련시설' '어린이집' '아동복지시설'\n",
      " '영유아보육시설' '노유자시설' '다세대주택' '아동관련시설' '공동주택' '지역아동센터' '다중주택' '아파트']\n",
      "북구의 A27 값 15 \n",
      ":  ['학원' '단독주택' '다가구주택' '초등학교' '중학교' '유치원' '영유아보육시설' '어린이집' '기타아동관련시설'\n",
      " '노유자시설' '지역아동센터' '공동주택' '다중주택' '다세대주택' '아파트']\n",
      "사상구의 A27 값 16 \n",
      ":  ['단독주택' '다가구주택' '학원' '유치원' '초등학교' '중학교' '영유아보육시설' '공동주택' '노유자시설' '어린이집'\n",
      " '기타아동관련시설' '다세대주택' '아동복지시설' '다중주택' '지역아동센터' '아파트']\n",
      "사하구의 A27 값 17 \n",
      ":  ['단독주택' '다가구주택' '다세대주택' '공동주택' '학원' '초등학교' '어린이집' '주거용' '영유아보육시설' '노유자시설'\n",
      " '기타아동관련시설' '유치원' '중학교' '다중주택' '아동복지시설' '아파트' '지역아동센터']\n",
      "서구의 A27 값 17 \n",
      ":  ['단독주택' '다가구주택' '유치원' '학원' '초등학교' '중학교' '어린이집' '지역아동센터' '노유자시설' '영유아보육시설'\n",
      " '기타아동관련시설' '아동복지시설' '학교' '공동주택' '다중주택' '아파트' '다세대주택']\n",
      "수영구의 A27 값 16 \n",
      ":  ['단독주택' '다가구주택' '학원' '유치원' '기타아동관련시설' '초등학교' '영유아보육시설' '노유자시설' '주거용'\n",
      " '어린이집' '공동주택' '아동복지시설' '중학교' '다세대주택' '다중주택' '아파트']\n",
      "연제구의 A27 값 16 \n",
      ":  ['단독주택' '다가구주택' '학원' '기타아동관련시설' '중학교' '초등학교' '어린이집' '영유아보육시설' '유치원'\n",
      " '노유자시설' '공동주택' '아동복지시설' '아동관련시설' '다중주택' '다세대주택' '아파트']\n",
      "영도구의 A27 값 15 \n",
      ":  ['단독주택' '다가구주택' '학원' '초등학교' '영유아보육시설' '어린이집' '지역아동센터' '중학교' '기타아동관련시설'\n",
      " '유치원' '공동주택' '아동복지시설' '다세대주택' '다중주택' '아파트']\n",
      "중구의 A27 값 13 \n",
      ":  ['단독주택' '다가구주택' '학원' '기타아동관련시설' '아동복지시설' '다세대주택' '유치원' '주거용' '지역아동센터'\n",
      " '어린이집' '영유아보육시설' '다중주택' '아파트']\n",
      "해운대구의 A27 값 17 \n",
      ":  ['단독주택' '다가구주택' '학원' '유치원' '다중주택' '아동복지시설' '기타아동관련시설' '초등학교' '영유아보육시설'\n",
      " '중학교' '어린이집' '지역아동센터' '노유자시설' '아동관련시설' '다세대주택' '아파트' '공동주택']\n"
     ]
    }
   ],
   "source": [
    "for key in df_dict.keys():\n",
    "    df_dict[key] = fill_na(df_dict[key])\n",
    "    df_dict[key] = df_dict[key][df_dict[key]['A27'].isin(nearby_list)]\n",
    "    print(f'{key}의 A27 값 {len(df_dict[key].A27.unique())} \\n: ',df_dict[key].A27.unique())"
   ]
  },
  {
   "cell_type": "code",
   "execution_count": 22,
   "id": "b8d2f2c6",
   "metadata": {},
   "outputs": [
    {
     "name": "stdout",
     "output_type": "stream",
     "text": [
      "24419\n",
      "22164\n",
      "15718\n",
      "18279\n",
      "12511\n",
      "18148\n",
      "25210\n",
      "11447\n",
      "19080\n",
      "24081\n",
      "12023\n",
      "13957\n",
      "13343\n",
      "13430\n",
      "6306\n",
      "18796\n",
      "268912\n"
     ]
    }
   ],
   "source": [
    "a = 0\n",
    "for key in df_dict.keys():\n",
    "    print(len(df_dict[key]))\n",
    "    a += len(df_dict[key])\n",
    "print(a)"
   ]
  },
  {
   "cell_type": "markdown",
   "id": "aae9614c",
   "metadata": {},
   "source": [
    "## 수정된 데이터 저장"
   ]
  },
  {
   "cell_type": "markdown",
   "id": "1f6fa435",
   "metadata": {},
   "source": [
    "- 각 구마다 데이터프레임을 .shp파일로 저장"
   ]
  },
  {
   "cell_type": "code",
   "execution_count": null,
   "id": "86cb5579",
   "metadata": {},
   "outputs": [],
   "source": [
    "os.makedirs('용도별건물공간확보_부산_가공', exist_ok=True)\n",
    "for name in df_dict.keys():\n",
    "    os.makedirs(f'용도별건물공간확보_부산_가공/{name}', exist_ok=True)\n",
    "    df_dict[name].to_file(f'용도별건물공간확보_부산_가공/{name}/{name}.shp', encoding='cp949')"
   ]
  },
  {
   "cell_type": "markdown",
   "id": "ee5063af",
   "metadata": {},
   "source": [
    "- 각 데이터프레임에 '자치구'라는 이름의 열을 추가\n",
    "    - '자치구'열에 자치구 이름을 값으로 추가\n"
   ]
  },
  {
   "cell_type": "code",
   "execution_count": 17,
   "id": "ef09f605",
   "metadata": {},
   "outputs": [],
   "source": [
    "for name, df in df_dict.items():\n",
    "    df['자치구'] = name "
   ]
  },
  {
   "cell_type": "markdown",
   "id": "57a4d846",
   "metadata": {},
   "source": [
    "- 16개의 데이터프레임을 하나의 데이터프레임으로 합침"
   ]
  },
  {
   "cell_type": "code",
   "execution_count": 19,
   "id": "e680fbe8",
   "metadata": {},
   "outputs": [],
   "source": [
    "import pandas as pd\n",
    "\n",
    "df_merge = pd.concat(df_dict.values(), ignore_index=True)"
   ]
  },
  {
   "cell_type": "markdown",
   "id": "b61d8951",
   "metadata": {},
   "source": [
    "- 데이터프레임의 정보를 살펴보니 위에서 각 데이터프레임의 길이를 합침 값 a와 동일한 것으로 확인"
   ]
  },
  {
   "cell_type": "code",
   "execution_count": 23,
   "id": "62918dac",
   "metadata": {},
   "outputs": [
    {
     "data": {
      "text/plain": [
       "268912"
      ]
     },
     "execution_count": 23,
     "metadata": {},
     "output_type": "execute_result"
    }
   ],
   "source": [
    "len(df_merge)"
   ]
  },
  {
   "cell_type": "code",
   "execution_count": 26,
   "id": "70b68bff",
   "metadata": {},
   "outputs": [
    {
     "name": "stdout",
     "output_type": "stream",
     "text": [
      "<class 'geopandas.geodataframe.GeoDataFrame'>\n",
      "RangeIndex: 268912 entries, 0 to 268911\n",
      "Data columns (total 38 columns):\n",
      " #   Column    Non-Null Count   Dtype   \n",
      "---  ------    --------------   -----   \n",
      " 0   A0        268912 non-null  int32   \n",
      " 1   A1        268912 non-null  object  \n",
      " 2   A2        268912 non-null  object  \n",
      " 3   A3        268912 non-null  object  \n",
      " 4   A4        268912 non-null  object  \n",
      " 5   A5        268912 non-null  object  \n",
      " 6   A6        268912 non-null  object  \n",
      " 7   A7        268909 non-null  object  \n",
      " 8   A8        268912 non-null  object  \n",
      " 9   A9        268912 non-null  object  \n",
      " 10  A10       268912 non-null  object  \n",
      " 11  A11       268912 non-null  object  \n",
      " 12  A12       268912 non-null  object  \n",
      " 13  A13       47655 non-null   object  \n",
      " 14  A14       38041 non-null   object  \n",
      " 15  A15       268894 non-null  object  \n",
      " 16  A16       268894 non-null  object  \n",
      " 17  A17       259134 non-null  float64 \n",
      " 18  A18       268313 non-null  float64 \n",
      " 19  A19       268889 non-null  float64 \n",
      " 20  A20       258747 non-null  float64 \n",
      " 21  A21       258869 non-null  float64 \n",
      " 22  A22       268769 non-null  object  \n",
      " 23  A23       268704 non-null  object  \n",
      " 24  A24       268775 non-null  object  \n",
      " 25  A25       268698 non-null  object  \n",
      " 26  A26       268880 non-null  object  \n",
      " 27  A27       268503 non-null  object  \n",
      " 28  A28       268444 non-null  object  \n",
      " 29  A29       268444 non-null  object  \n",
      " 30  A30       267126 non-null  float64 \n",
      " 31  A31       268655 non-null  float64 \n",
      " 32  A32       246841 non-null  float64 \n",
      " 33  A33       212353 non-null  object  \n",
      " 34  A34       249170 non-null  object  \n",
      " 35  A35       268912 non-null  object  \n",
      " 36  geometry  268912 non-null  geometry\n",
      " 37  자치구       268912 non-null  object  \n",
      "dtypes: float64(8), geometry(1), int32(1), object(28)\n",
      "memory usage: 76.9+ MB\n"
     ]
    }
   ],
   "source": [
    "df_merge.info()"
   ]
  },
  {
   "cell_type": "markdown",
   "id": "efa46830",
   "metadata": {},
   "source": [
    "- 종합한 데이터프레임을 csv파일로 저장"
   ]
  },
  {
   "cell_type": "code",
   "execution_count": 24,
   "id": "08d16cd6",
   "metadata": {},
   "outputs": [],
   "source": [
    "df_merge.to_csv('부산시_주거및학교건물데이터.csv')"
   ]
  }
 ],
 "metadata": {
  "kernelspec": {
   "display_name": "Python 3",
   "language": "python",
   "name": "python3"
  },
  "language_info": {
   "codemirror_mode": {
    "name": "ipython",
    "version": 3
   },
   "file_extension": ".py",
   "mimetype": "text/x-python",
   "name": "python",
   "nbconvert_exporter": "python",
   "pygments_lexer": "ipython3",
   "version": "3.11.11"
  }
 },
 "nbformat": 4,
 "nbformat_minor": 5
}
