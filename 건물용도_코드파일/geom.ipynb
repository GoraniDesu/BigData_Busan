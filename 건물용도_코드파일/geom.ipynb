{
 "cells": [
  {
   "cell_type": "code",
   "execution_count": 183,
   "id": "ba445263",
   "metadata": {},
   "outputs": [],
   "source": [
    "import geopandas as gpd\n",
    "import pandas as pd \n",
    "import os"
   ]
  },
  {
   "cell_type": "code",
   "execution_count": 184,
   "id": "ce1f9bba",
   "metadata": {},
   "outputs": [],
   "source": [
    "from gpd_loader import get_gpd\n",
    "\n",
    "dir_path = '용도별건물공간확보_부산'\n",
    "자치구_list, df_dict = get_gpd(dir_path)"
   ]
  },
  {
   "cell_type": "code",
   "execution_count": 185,
   "id": "f90f9b29",
   "metadata": {},
   "outputs": [
    {
     "data": {
      "text/plain": [
       "dict_keys(['강서구', '금정구', '기장군', '남구', '동구', '동래구', '부산진구', '북구', '사상구', '사하구', '서구', '수영구', '연제구', '영도구', '중구', '해운대구'])"
      ]
     },
     "execution_count": 185,
     "metadata": {},
     "output_type": "execute_result"
    }
   ],
   "source": [
    "df_dict.keys()"
   ]
  },
  {
   "cell_type": "code",
   "execution_count": 186,
   "id": "6bf5bab9",
   "metadata": {},
   "outputs": [],
   "source": [
    "df_dict_copy = df_dict.copy()"
   ]
  },
  {
   "cell_type": "code",
   "execution_count": null,
   "id": "8b73680a",
   "metadata": {},
   "outputs": [],
   "source": [
    "columns = ['A25' , 'A27', 'A29']#25:주요용도명, 27:세부용도명, 29:건물용도명"
   ]
  },
  {
   "cell_type": "code",
   "execution_count": 188,
   "id": "263055f6",
   "metadata": {},
   "outputs": [
    {
     "data": {
      "text/plain": [
       "array(['농수산용', '기타', '상업용', '주거용', '문교사회용', '공업용', None, '공공용'],\n",
       "      dtype=object)"
      ]
     },
     "execution_count": 188,
     "metadata": {},
     "output_type": "execute_result"
    }
   ],
   "source": [
    "df_dict_copy['강서구'].A29.unique()"
   ]
  },
  {
   "cell_type": "code",
   "execution_count": 189,
   "id": "266cf54f",
   "metadata": {},
   "outputs": [],
   "source": [
    "def fill_na(df):\n",
    "    df = df.dropna(subset=columns, how='all')\n",
    "    df.loc[df['A27'].isna(), 'A27'] = df.loc[df['A27'].isna(), 'A25']\n",
    "    df.loc[df['A27'].isna(), 'A27'] = df.loc[df['A27'].isna(), 'A29']\n",
    "    return df"
   ]
  },
  {
   "cell_type": "code",
   "execution_count": 190,
   "id": "f6a9f7c2",
   "metadata": {},
   "outputs": [],
   "source": [
    "for df_key, df in df_dict_copy.items():\n",
    "    df_dict_copy[df_key] = fill_na(df)\n",
    "    df_dict_copy[df_key] = df_dict_copy[df_key][columns]\n",
    "    "
   ]
  },
  {
   "cell_type": "code",
   "execution_count": 191,
   "id": "059a0300",
   "metadata": {},
   "outputs": [],
   "source": [
    "a27_list = list(set(val for df in df_dict_copy.values() for val in df['A27'].unique()))"
   ]
  },
  {
   "cell_type": "code",
   "execution_count": 192,
   "id": "0ef5f792",
   "metadata": {},
   "outputs": [],
   "source": [
    "with open('a27_list.txt', 'w', encoding='utf-8') as f:\n",
    "    for item in a27_list:\n",
    "        f.write(f\"{item}\\n\")"
   ]
  },
  {
   "cell_type": "code",
   "execution_count": 193,
   "id": "b166c70b",
   "metadata": {},
   "outputs": [
    {
     "data": {
      "text/plain": [
       "352"
      ]
     },
     "execution_count": 193,
     "metadata": {},
     "output_type": "execute_result"
    }
   ],
   "source": [
    "len(a27_list)"
   ]
  },
  {
   "cell_type": "code",
   "execution_count": 194,
   "id": "5ed4f5c7",
   "metadata": {},
   "outputs": [],
   "source": [
    "with open('nearby.txt', 'r', encoding='utf-8') as f:\n",
    "    nearby_list = [line.strip() for line in f.readlines()]"
   ]
  },
  {
   "cell_type": "code",
   "execution_count": 195,
   "id": "39310498",
   "metadata": {},
   "outputs": [
    {
     "data": {
      "text/plain": [
       "19"
      ]
     },
     "execution_count": 195,
     "metadata": {},
     "output_type": "execute_result"
    }
   ],
   "source": [
    "len(nearby_list)"
   ]
  },
  {
   "cell_type": "code",
   "execution_count": 196,
   "id": "3692bdd9",
   "metadata": {},
   "outputs": [
    {
     "name": "stdout",
     "output_type": "stream",
     "text": [
      "강서구의 A27 값 12 \n",
      ":  ['단독주택' '학원' '다가구주택' '영유아보육시설' '유치원' '초등학교' '다중주택' '주거용' '어린이집' '중학교'\n",
      " '다세대주택' '아파트']\n",
      "금정구의 A27 값 17 \n",
      ":  ['단독주택' '다가구주택' '학원' '기타아동관련시설' '아동복지시설' '초등학교' '다중주택' '어린이집' '영유아보육시설'\n",
      " '유치원' '중학교' '지역아동센터' '다세대주택' '노유자시설' '공동주택' '주거용' '아파트']\n",
      "기장군의 A27 값 16 \n",
      ":  ['단독주택' '다가구주택' '학원' '기타아동관련시설' '영유아보육시설' '초등학교' '아동복지시설' '공동주택' '어린이집'\n",
      " '지역아동센터' '유치원' '중학교' '다중주택' '다세대주택' '노유자시설' '아파트']\n",
      "남구의 A27 값 15 \n",
      ":  ['다가구주택' '단독주택' '학원' '공동주택' '초등학교' '유치원' '중학교' '영유아보육시설' '어린이집' '기타아동관련시설'\n",
      " '노유자시설' '다중주택' '아동복지시설' '다세대주택' '아파트']\n",
      "동구의 A27 값 16 \n",
      ":  ['단독주택' '학원' '다가구주택' '지역아동센터' '유치원' '초등학교' '중학교' '영유아보육시설' '다중주택' '공동주택'\n",
      " '어린이집' '기타아동관련시설' '아동관련시설' '다세대주택' '노유자시설' '아파트']\n",
      "동래구의 A27 값 16 \n",
      ":  ['단독주택' '다가구주택' '기타아동관련시설' '어린이집' '초등학교' '중학교' '학원' '영유아보육시설' '유치원' '공동주택'\n",
      " '노유자시설' '지역아동센터' '다중주택' '다세대주택' '아동복지시설' '아파트']\n",
      "부산진구의 A27 값 17 \n",
      ":  ['단독주택' '다가구주택' '학원' '초등학교' '중학교' '유치원' '기타아동관련시설' '어린이집' '아동복지시설'\n",
      " '영유아보육시설' '노유자시설' '다세대주택' '아동관련시설' '공동주택' '지역아동센터' '다중주택' '아파트']\n",
      "북구의 A27 값 15 \n",
      ":  ['학원' '단독주택' '다가구주택' '초등학교' '중학교' '유치원' '영유아보육시설' '어린이집' '기타아동관련시설'\n",
      " '노유자시설' '지역아동센터' '공동주택' '다중주택' '다세대주택' '아파트']\n",
      "사상구의 A27 값 16 \n",
      ":  ['단독주택' '다가구주택' '학원' '유치원' '초등학교' '중학교' '영유아보육시설' '공동주택' '노유자시설' '어린이집'\n",
      " '기타아동관련시설' '다세대주택' '아동복지시설' '다중주택' '지역아동센터' '아파트']\n",
      "사하구의 A27 값 17 \n",
      ":  ['단독주택' '다가구주택' '다세대주택' '공동주택' '학원' '초등학교' '어린이집' '주거용' '영유아보육시설' '노유자시설'\n",
      " '기타아동관련시설' '유치원' '중학교' '다중주택' '아동복지시설' '아파트' '지역아동센터']\n",
      "서구의 A27 값 17 \n",
      ":  ['단독주택' '다가구주택' '유치원' '학원' '초등학교' '중학교' '어린이집' '지역아동센터' '노유자시설' '영유아보육시설'\n",
      " '기타아동관련시설' '아동복지시설' '학교' '공동주택' '다중주택' '아파트' '다세대주택']\n",
      "수영구의 A27 값 16 \n",
      ":  ['단독주택' '다가구주택' '학원' '유치원' '기타아동관련시설' '초등학교' '영유아보육시설' '노유자시설' '주거용'\n",
      " '어린이집' '공동주택' '아동복지시설' '중학교' '다세대주택' '다중주택' '아파트']\n",
      "연제구의 A27 값 16 \n",
      ":  ['단독주택' '다가구주택' '학원' '기타아동관련시설' '중학교' '초등학교' '어린이집' '영유아보육시설' '유치원'\n",
      " '노유자시설' '공동주택' '아동복지시설' '아동관련시설' '다중주택' '다세대주택' '아파트']\n",
      "영도구의 A27 값 15 \n",
      ":  ['단독주택' '다가구주택' '학원' '초등학교' '영유아보육시설' '어린이집' '지역아동센터' '중학교' '기타아동관련시설'\n",
      " '유치원' '공동주택' '아동복지시설' '다세대주택' '다중주택' '아파트']\n",
      "중구의 A27 값 13 \n",
      ":  ['단독주택' '다가구주택' '학원' '기타아동관련시설' '아동복지시설' '다세대주택' '유치원' '주거용' '지역아동센터'\n",
      " '어린이집' '영유아보육시설' '다중주택' '아파트']\n",
      "해운대구의 A27 값 17 \n",
      ":  ['단독주택' '다가구주택' '학원' '유치원' '다중주택' '아동복지시설' '기타아동관련시설' '초등학교' '영유아보육시설'\n",
      " '중학교' '어린이집' '지역아동센터' '노유자시설' '아동관련시설' '다세대주택' '아파트' '공동주택']\n"
     ]
    }
   ],
   "source": [
    "for key in df_dict.keys():\n",
    "    df_dict[key] = fill_na(df_dict[key])\n",
    "    df_dict[key] = df_dict[key][df_dict[key]['A27'].isin(nearby_list)]\n",
    "    print(f'{key}의 A27 값 {len(df_dict[key].A27.unique())} \\n: ',df_dict[key].A27.unique())"
   ]
  },
  {
   "cell_type": "code",
   "execution_count": 197,
   "id": "b8d2f2c6",
   "metadata": {},
   "outputs": [
    {
     "name": "stdout",
     "output_type": "stream",
     "text": [
      "9589\n",
      "15922\n",
      "8864\n",
      "13782\n",
      "9862\n",
      "12808\n",
      "17549\n",
      "8220\n",
      "9316\n",
      "16436\n",
      "9608\n",
      "10417\n",
      "9889\n",
      "10325\n",
      "3750\n",
      "13921\n"
     ]
    }
   ],
   "source": [
    "for key in df_dict.keys():\n",
    "    print(len(df_dict[key]))"
   ]
  },
  {
   "cell_type": "code",
   "execution_count": 198,
   "id": "e8296dc5",
   "metadata": {},
   "outputs": [],
   "source": [
    "os.makedirs('용도별건물공간확보_부산_가공', exist_ok=True)\n",
    "for name in df_dict.keys():\n",
    "    os.makedirs(f'용도별건물공간확보_부산_가공/{name}', exist_ok=True)\n",
    "    df_dict[name].to_file(f'용도별건물공간확보_부산_가공/{name}/{name}.shp', encoding='cp949')"
   ]
  }
 ],
 "metadata": {
  "kernelspec": {
   "display_name": "Python 3",
   "language": "python",
   "name": "python3"
  },
  "language_info": {
   "codemirror_mode": {
    "name": "ipython",
    "version": 3
   },
   "file_extension": ".py",
   "mimetype": "text/x-python",
   "name": "python",
   "nbconvert_exporter": "python",
   "pygments_lexer": "ipython3",
   "version": "3.11.11"
  }
 },
 "nbformat": 4,
 "nbformat_minor": 5
}
